{
 "cells": [
  {
   "cell_type": "code",
   "execution_count": 2,
   "id": "3e49f3df-fb57-4ddd-8f3a-0dea15c8d436",
   "metadata": {},
   "outputs": [
    {
     "name": "stdout",
     "output_type": "stream",
     "text": [
      "[[1 2]\n",
      " [3 4]\n",
      " [5 6]]\n",
      "[[1 3 5]\n",
      " [2 4 6]]\n"
     ]
    }
   ],
   "source": [
    "from numpy import array\n",
    "A = array([\n",
    "    [1,2],\n",
    "    [3,4],\n",
    "    [5,6]\n",
    "])\n",
    "print(A)\n",
    "C = A.T\n",
    "print(C)"
   ]
  },
  {
   "cell_type": "code",
   "execution_count": 4,
   "id": "77313446-d7e2-43b3-b852-73bddeeaa79f",
   "metadata": {},
   "outputs": [
    {
     "name": "stdout",
     "output_type": "stream",
     "text": [
      "[[1. 2.]\n",
      " [3. 4.]]\n",
      "[[-2.   1. ]\n",
      " [ 1.5 -0.5]]\n",
      "[[1.00000000e+00 1.11022302e-16]\n",
      " [0.00000000e+00 1.00000000e+00]]\n"
     ]
    }
   ],
   "source": [
    "from numpy import array\n",
    "from numpy.linalg import inv\n",
    "A = array([\n",
    "    [1.0,2.0],\n",
    "    [3.0,4.0]\n",
    "])\n",
    "print(A)\n",
    "B = inv(A)\n",
    "print(B)\n",
    "I = A.dot(B)\n",
    "print(I)"
   ]
  },
  {
   "cell_type": "code",
   "execution_count": 6,
   "id": "acd56bbc-7520-46c5-a819-17ffdf4f1420",
   "metadata": {},
   "outputs": [
    {
     "name": "stdout",
     "output_type": "stream",
     "text": [
      "[[1 2 3]\n",
      " [4 5 6]\n",
      " [7 8 9]]\n",
      "15\n"
     ]
    }
   ],
   "source": [
    "from numpy import array\n",
    "from numpy import trace\n",
    "A = array([\n",
    "    [1,2,3],\n",
    "    [4,5,6],\n",
    "    [7,8,9]\n",
    "])\n",
    "print(A)\n",
    "b = trace(A)\n",
    "print(b)"
   ]
  },
  {
   "cell_type": "code",
   "execution_count": 8,
   "id": "c17dc021-8371-4e42-a876-57713c23545a",
   "metadata": {},
   "outputs": [
    {
     "name": "stdout",
     "output_type": "stream",
     "text": [
      "[[1 2 3]\n",
      " [4 5 6]\n",
      " [7 8 9]]\n",
      "-9.51619735392994e-16\n"
     ]
    }
   ],
   "source": [
    "from numpy import array\n",
    "from numpy.linalg import det\n",
    "A = array([\n",
    "    [1,2,3],\n",
    "    [4,5,6],\n",
    "    [7,8,9]\n",
    "])\n",
    "print(A)\n",
    "b = det(A)\n",
    "print(b)"
   ]
  },
  {
   "cell_type": "code",
   "execution_count": 10,
   "id": "68d7a30b-c2f6-4814-941c-6aec444c5bff",
   "metadata": {},
   "outputs": [
    {
     "name": "stdout",
     "output_type": "stream",
     "text": [
      "[1 2 3]\n",
      "1\n",
      "[0 0 0 0 0]\n",
      "0\n"
     ]
    }
   ],
   "source": [
    "from numpy import array\n",
    "from numpy.linalg import matrix_rank\n",
    "v1 = array([1,2,3])\n",
    "print(v1)\n",
    "vr1 = matrix_rank(v1)\n",
    "print(vr1)\n",
    "v2 = array([0,0,0,0,0])\n",
    "print(v2)\n",
    "vr2 = matrix_rank(v2)\n",
    "print(vr2)"
   ]
  },
  {
   "cell_type": "code",
   "execution_count": 12,
   "id": "95ee0d69-33f3-4a24-91f2-66bf00973cd8",
   "metadata": {},
   "outputs": [
    {
     "name": "stdout",
     "output_type": "stream",
     "text": [
      "[[0 0]\n",
      " [0 0]]\n",
      "0\n",
      "[[1 2]\n",
      " [1 2]]\n",
      "1\n",
      "[[1 2]\n",
      " [3 4]]\n",
      "2\n"
     ]
    }
   ],
   "source": [
    "from numpy import array\n",
    "from numpy.linalg import matrix_rank\n",
    "M0 = array([\n",
    "    [0,0],\n",
    "    [0,0]\n",
    "])\n",
    "print(M0)\n",
    "mr0 = matrix_rank(M0)\n",
    "print(mr0)\n",
    "M1 = array([\n",
    "    [1,2],\n",
    "    [1,2]\n",
    "])\n",
    "print(M1)\n",
    "mr1 = matrix_rank(M1)\n",
    "print(mr1)\n",
    "M2 = array([\n",
    "    [1,2],\n",
    "    [3,4]\n",
    "])\n",
    "print(M2)\n",
    "mr2 = matrix_rank(M2)\n",
    "print(mr2)"
   ]
  }
 ],
 "metadata": {
  "kernelspec": {
   "display_name": "Python 3 (ipykernel)",
   "language": "python",
   "name": "python3"
  },
  "language_info": {
   "codemirror_mode": {
    "name": "ipython",
    "version": 3
   },
   "file_extension": ".py",
   "mimetype": "text/x-python",
   "name": "python",
   "nbconvert_exporter": "python",
   "pygments_lexer": "ipython3",
   "version": "3.12.7"
  }
 },
 "nbformat": 4,
 "nbformat_minor": 5
}
