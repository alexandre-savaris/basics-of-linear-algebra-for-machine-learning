{
 "cells": [
  {
   "cell_type": "code",
   "execution_count": 1,
   "id": "68cf8f6e-5773-464e-a599-ed820098d8db",
   "metadata": {},
   "outputs": [
    {
     "name": "stdout",
     "output_type": "stream",
     "text": [
      "[11 22 33 44 55]\n",
      "<class 'numpy.ndarray'>\n"
     ]
    }
   ],
   "source": [
    "from numpy import array\n",
    "data = [11, 22, 33, 44, 55]\n",
    "data = array(data)\n",
    "print(data)\n",
    "print(type(data))"
   ]
  },
  {
   "cell_type": "code",
   "execution_count": 3,
   "id": "f302a1f2-ec57-4d00-bbf0-c1107a2409a9",
   "metadata": {},
   "outputs": [
    {
     "name": "stdout",
     "output_type": "stream",
     "text": [
      "[[11 22]\n",
      " [33 44]\n",
      " [55 66]]\n",
      "<class 'numpy.ndarray'>\n"
     ]
    }
   ],
   "source": [
    "from numpy import array\n",
    "data = [[11, 22],\n",
    "        [33, 44],\n",
    "        [55, 66]]\n",
    "data = array(data)\n",
    "print(data)\n",
    "print(type(data))"
   ]
  },
  {
   "cell_type": "code",
   "execution_count": 5,
   "id": "f2bfba56-f0c0-450a-82ac-4d18675e0d9c",
   "metadata": {},
   "outputs": [
    {
     "name": "stdout",
     "output_type": "stream",
     "text": [
      "11\n",
      "55\n"
     ]
    }
   ],
   "source": [
    "from numpy import array\n",
    "data = array([11, 22, 33, 44, 55])\n",
    "print(data[0])\n",
    "print(data[4])"
   ]
  },
  {
   "cell_type": "code",
   "execution_count": 7,
   "id": "357efb82-40f4-4e8c-a04e-771ca52e08b9",
   "metadata": {},
   "outputs": [
    {
     "ename": "IndexError",
     "evalue": "index 5 is out of bounds for axis 0 with size 5",
     "output_type": "error",
     "traceback": [
      "\u001b[1;31m---------------------------------------------------------------------------\u001b[0m",
      "\u001b[1;31mIndexError\u001b[0m                                Traceback (most recent call last)",
      "Cell \u001b[1;32mIn[7], line 3\u001b[0m\n\u001b[0;32m      1\u001b[0m \u001b[38;5;28;01mfrom\u001b[39;00m \u001b[38;5;21;01mnumpy\u001b[39;00m \u001b[38;5;28;01mimport\u001b[39;00m array\n\u001b[0;32m      2\u001b[0m data \u001b[38;5;241m=\u001b[39m array([\u001b[38;5;241m11\u001b[39m, \u001b[38;5;241m22\u001b[39m, \u001b[38;5;241m33\u001b[39m, \u001b[38;5;241m44\u001b[39m, \u001b[38;5;241m55\u001b[39m])\n\u001b[1;32m----> 3\u001b[0m \u001b[38;5;28mprint\u001b[39m(data[\u001b[38;5;241m5\u001b[39m])\n",
      "\u001b[1;31mIndexError\u001b[0m: index 5 is out of bounds for axis 0 with size 5"
     ]
    }
   ],
   "source": [
    "from numpy import array\n",
    "data = array([11, 22, 33, 44, 55])\n",
    "print(data[5])"
   ]
  },
  {
   "cell_type": "code",
   "execution_count": 11,
   "id": "a1b2324f-3091-4af6-b695-df05a4038da2",
   "metadata": {},
   "outputs": [
    {
     "name": "stdout",
     "output_type": "stream",
     "text": [
      "55\n",
      "11\n"
     ]
    }
   ],
   "source": [
    "from numpy import array\n",
    "data = array([11, 22, 33, 44, 55])\n",
    "print(data[-1])\n",
    "print(data[-5])"
   ]
  },
  {
   "cell_type": "code",
   "execution_count": 13,
   "id": "7367bf41-5989-41d3-ab9e-de96a7c6729f",
   "metadata": {},
   "outputs": [
    {
     "name": "stdout",
     "output_type": "stream",
     "text": [
      "11\n"
     ]
    }
   ],
   "source": [
    "from numpy import array\n",
    "data = array([\n",
    "    [11, 22],\n",
    "    [33, 44],\n",
    "    [55, 66]\n",
    "])\n",
    "print(data[0,0])"
   ]
  },
  {
   "cell_type": "code",
   "execution_count": 15,
   "id": "71380480-2470-4874-a24c-9b484623c5bd",
   "metadata": {},
   "outputs": [
    {
     "name": "stdout",
     "output_type": "stream",
     "text": [
      "[11 22]\n"
     ]
    }
   ],
   "source": [
    "from numpy import array\n",
    "data = array([\n",
    "    [11, 22],\n",
    "    [33, 44],\n",
    "    [55, 66]\n",
    "])\n",
    "print(data[0,])"
   ]
  },
  {
   "cell_type": "code",
   "execution_count": 17,
   "id": "5bc34681-4df8-4061-a217-3784389ddfe7",
   "metadata": {},
   "outputs": [
    {
     "name": "stdout",
     "output_type": "stream",
     "text": [
      "[11 22 33 44 55]\n"
     ]
    }
   ],
   "source": [
    "from numpy import array\n",
    "data = array([11, 22, 33, 44, 55])\n",
    "print(data[:])"
   ]
  },
  {
   "cell_type": "code",
   "execution_count": 19,
   "id": "a46929c1-be06-47d0-9277-e1001543405a",
   "metadata": {},
   "outputs": [
    {
     "name": "stdout",
     "output_type": "stream",
     "text": [
      "[11]\n"
     ]
    }
   ],
   "source": [
    "from numpy import array\n",
    "data = array([11, 22, 33, 44, 55])\n",
    "print(data[0:1])"
   ]
  },
  {
   "cell_type": "code",
   "execution_count": 21,
   "id": "80e80e9a-923a-4fed-90b4-e7e7fd8d41d5",
   "metadata": {},
   "outputs": [
    {
     "name": "stdout",
     "output_type": "stream",
     "text": [
      "[44 55]\n"
     ]
    }
   ],
   "source": [
    "from numpy import array\n",
    "data = array([11, 22, 33, 44, 55])\n",
    "print(data[-2:])"
   ]
  },
  {
   "cell_type": "code",
   "execution_count": 23,
   "id": "3b6e123c-b713-4400-a172-27580fa83091",
   "metadata": {},
   "outputs": [
    {
     "name": "stdout",
     "output_type": "stream",
     "text": [
      "[[11 22]\n",
      " [44 55]\n",
      " [77 88]]\n",
      "[33 66 99]\n"
     ]
    }
   ],
   "source": [
    "from numpy import array\n",
    "data = array([\n",
    "    [11, 22, 33],\n",
    "    [44, 55, 66],\n",
    "    [77, 88, 99]\n",
    "])\n",
    "X, y = data[:, :-1], data[:, -1]\n",
    "print(X)\n",
    "print(y)"
   ]
  },
  {
   "cell_type": "code",
   "execution_count": 25,
   "id": "a2940d27-edd0-4102-ae23-5bc0a439a23e",
   "metadata": {},
   "outputs": [
    {
     "name": "stdout",
     "output_type": "stream",
     "text": [
      "[[11 22 33]\n",
      " [44 55 66]]\n",
      "[[77 88 99]]\n"
     ]
    }
   ],
   "source": [
    "from numpy import array\n",
    "data = array([\n",
    "    [11, 22, 33],\n",
    "    [44, 55, 66],\n",
    "    [77, 88, 99]\n",
    "])\n",
    "split = 2\n",
    "train, test = data[:split, :], data[split:, :]\n",
    "print(train)\n",
    "print(test)"
   ]
  },
  {
   "cell_type": "code",
   "execution_count": 27,
   "id": "b2a4cfd0-229f-4c12-83ff-28416da7271b",
   "metadata": {},
   "outputs": [
    {
     "name": "stdout",
     "output_type": "stream",
     "text": [
      "(5,)\n"
     ]
    }
   ],
   "source": [
    "from numpy import array\n",
    "data = array([11, 22, 33, 44, 55])\n",
    "print(data.shape)"
   ]
  },
  {
   "cell_type": "code",
   "execution_count": 29,
   "id": "43b53e13-1e6e-40db-a9a7-53d27432c98a",
   "metadata": {},
   "outputs": [
    {
     "name": "stdout",
     "output_type": "stream",
     "text": [
      "(3, 2)\n"
     ]
    }
   ],
   "source": [
    "from numpy import array\n",
    "data = array([\n",
    "    [11, 22],\n",
    "    [33, 44],\n",
    "    [55, 66]\n",
    "])\n",
    "print(data.shape)"
   ]
  },
  {
   "cell_type": "code",
   "execution_count": 31,
   "id": "b1d6a242-c391-4701-ac73-9235d42113e6",
   "metadata": {},
   "outputs": [
    {
     "name": "stdout",
     "output_type": "stream",
     "text": [
      "Rows: 3\n",
      "Cols: 2\n"
     ]
    }
   ],
   "source": [
    "from numpy import array\n",
    "data = array([\n",
    "    [11, 22],\n",
    "    [33, 44],\n",
    "    [55, 66]\n",
    "])\n",
    "print('Rows: %d' % data.shape[0])\n",
    "print('Cols: %d' % data.shape[1])"
   ]
  },
  {
   "cell_type": "code",
   "execution_count": 37,
   "id": "d54e5f07-722b-4ca0-821c-5dc50cdb0ab2",
   "metadata": {},
   "outputs": [
    {
     "name": "stdout",
     "output_type": "stream",
     "text": [
      "(5,)\n",
      "(5, 1)\n",
      "[[11]\n",
      " [22]\n",
      " [33]\n",
      " [44]\n",
      " [55]]\n"
     ]
    }
   ],
   "source": [
    "from numpy import array\n",
    "data = array([11, 22, 33, 44, 55])\n",
    "print(data.shape)\n",
    "data = data.reshape((data.shape[0]), 1)\n",
    "print(data.shape)\n",
    "print(data)"
   ]
  },
  {
   "cell_type": "code",
   "execution_count": 39,
   "id": "8472edbf-c20f-4276-b5e7-ac16526cdd5d",
   "metadata": {},
   "outputs": [
    {
     "name": "stdout",
     "output_type": "stream",
     "text": [
      "(3, 2)\n",
      "(3, 2, 1)\n",
      "[[[11]\n",
      "  [22]]\n",
      "\n",
      " [[33]\n",
      "  [44]]\n",
      "\n",
      " [[55]\n",
      "  [66]]]\n"
     ]
    }
   ],
   "source": [
    "from numpy import array\n",
    "data = array([\n",
    "    [11, 22],\n",
    "    [33, 44],\n",
    "    [55, 66]\n",
    "])\n",
    "print(data.shape)\n",
    "data = data.reshape((data.shape[0], data.shape[1], 1))\n",
    "print(data.shape)\n",
    "print(data)"
   ]
  }
 ],
 "metadata": {
  "kernelspec": {
   "display_name": "Python 3 (ipykernel)",
   "language": "python",
   "name": "python3"
  },
  "language_info": {
   "codemirror_mode": {
    "name": "ipython",
    "version": 3
   },
   "file_extension": ".py",
   "mimetype": "text/x-python",
   "name": "python",
   "nbconvert_exporter": "python",
   "pygments_lexer": "ipython3",
   "version": "3.12.7"
  }
 },
 "nbformat": 4,
 "nbformat_minor": 5
}
