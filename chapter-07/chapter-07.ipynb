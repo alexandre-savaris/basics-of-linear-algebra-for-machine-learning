{
 "cells": [
  {
   "cell_type": "code",
   "execution_count": 1,
   "id": "50bf3277-0674-4568-9a10-f8d8f1a6bef9",
   "metadata": {},
   "outputs": [
    {
     "name": "stdout",
     "output_type": "stream",
     "text": [
      "[1 2 3]\n"
     ]
    }
   ],
   "source": [
    "from numpy import array\n",
    "v = array([1, 2, 3])\n",
    "print(v)"
   ]
  },
  {
   "cell_type": "code",
   "execution_count": 3,
   "id": "68537ff9-c3fc-4186-8955-df3a42a059b6",
   "metadata": {},
   "outputs": [
    {
     "name": "stdout",
     "output_type": "stream",
     "text": [
      "[1 2 3]\n",
      "[1 2 3]\n",
      "[2 4 6]\n"
     ]
    }
   ],
   "source": [
    "from numpy import array\n",
    "a = array([1, 2, 3])\n",
    "print(a)\n",
    "b = array([1, 2, 3])\n",
    "print(b)\n",
    "c = a + b\n",
    "print(c)"
   ]
  },
  {
   "cell_type": "code",
   "execution_count": 5,
   "id": "75953c46-e162-4189-8463-e7df45a495e8",
   "metadata": {},
   "outputs": [
    {
     "name": "stdout",
     "output_type": "stream",
     "text": [
      "[1 2 3]\n",
      "[0.5 0.5 0.5]\n",
      "[0.5 1.5 2.5]\n"
     ]
    }
   ],
   "source": [
    "from numpy import array\n",
    "a = array([1, 2, 3])\n",
    "print(a)\n",
    "b = array([0.5, 0.5, 0.5])\n",
    "print(b)\n",
    "c = a - b\n",
    "print(c)"
   ]
  },
  {
   "cell_type": "code",
   "execution_count": 7,
   "id": "8759174c-9b83-4d14-aaf5-416cc5c31d32",
   "metadata": {},
   "outputs": [
    {
     "name": "stdout",
     "output_type": "stream",
     "text": [
      "[1 2 3]\n",
      "[1 2 3]\n",
      "[1 4 9]\n"
     ]
    }
   ],
   "source": [
    "from numpy import array\n",
    "a = array([1, 2, 3])\n",
    "print(a)\n",
    "b = array([1, 2, 3])\n",
    "print(b)\n",
    "c = a * b\n",
    "print(c)"
   ]
  },
  {
   "cell_type": "code",
   "execution_count": 9,
   "id": "0046d095-77f0-4cac-bad8-d1dc3d0074f0",
   "metadata": {},
   "outputs": [
    {
     "name": "stdout",
     "output_type": "stream",
     "text": [
      "[1 2 3]\n",
      "[1 2 3]\n",
      "[1. 1. 1.]\n"
     ]
    }
   ],
   "source": [
    "from numpy import array\n",
    "a = array([1, 2, 3])\n",
    "print(a)\n",
    "b = array([1, 2, 3])\n",
    "print(b)\n",
    "c = a / b\n",
    "print(c)"
   ]
  },
  {
   "cell_type": "code",
   "execution_count": 11,
   "id": "3d68a3de-b4b9-49ec-b8a1-2e19fa1cd267",
   "metadata": {},
   "outputs": [
    {
     "name": "stdout",
     "output_type": "stream",
     "text": [
      "[1 2 3]\n",
      "[1 2 3]\n",
      "14\n"
     ]
    }
   ],
   "source": [
    "from numpy import array\n",
    "a = array([1, 2, 3])\n",
    "print(a)\n",
    "b = array([1, 2, 3])\n",
    "print(b)\n",
    "c = a.dot(b)\n",
    "print(c)"
   ]
  },
  {
   "cell_type": "code",
   "execution_count": 13,
   "id": "4c3f2f67-3dbf-4188-a37f-525c4740d109",
   "metadata": {},
   "outputs": [
    {
     "name": "stdout",
     "output_type": "stream",
     "text": [
      "[1 2 3]\n",
      "0.5\n",
      "[0.5 1.  1.5]\n"
     ]
    }
   ],
   "source": [
    "from numpy import array\n",
    "a = array([1, 2, 3])\n",
    "print(a)\n",
    "s = 0.5\n",
    "print(s)\n",
    "c = s * a\n",
    "print(c)"
   ]
  }
 ],
 "metadata": {
  "kernelspec": {
   "display_name": "Python 3 (ipykernel)",
   "language": "python",
   "name": "python3"
  },
  "language_info": {
   "codemirror_mode": {
    "name": "ipython",
    "version": 3
   },
   "file_extension": ".py",
   "mimetype": "text/x-python",
   "name": "python",
   "nbconvert_exporter": "python",
   "pygments_lexer": "ipython3",
   "version": "3.12.7"
  }
 },
 "nbformat": 4,
 "nbformat_minor": 5
}
