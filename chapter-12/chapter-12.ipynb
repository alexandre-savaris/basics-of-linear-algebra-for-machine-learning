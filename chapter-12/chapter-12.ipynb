{
 "cells": [
  {
   "cell_type": "code",
   "execution_count": 3,
   "id": "02544d33-dab4-4406-9650-50a6eb0a0d9b",
   "metadata": {},
   "outputs": [
    {
     "name": "stdout",
     "output_type": "stream",
     "text": [
      "[[1 0 0 1 0 0]\n",
      " [0 0 2 0 0 1]\n",
      " [0 0 0 2 0 0]]\n",
      "  (0, 0)\t1\n",
      "  (0, 3)\t1\n",
      "  (1, 2)\t2\n",
      "  (1, 5)\t1\n",
      "  (2, 3)\t2\n",
      "[[1 0 0 1 0 0]\n",
      " [0 0 2 0 0 1]\n",
      " [0 0 0 2 0 0]]\n"
     ]
    }
   ],
   "source": [
    "from numpy import array\n",
    "from scipy.sparse import csr_matrix\n",
    "A = array([\n",
    "    [1,0,0,1,0,0],\n",
    "    [0,0,2,0,0,1],\n",
    "    [0,0,0,2,0,0]\n",
    "])\n",
    "print(A)\n",
    "S = csr_matrix(A)\n",
    "print(S)\n",
    "B = S.todense()\n",
    "print(B)"
   ]
  },
  {
   "cell_type": "code",
   "execution_count": 5,
   "id": "60775b5b-b431-44e9-8ee6-ecdcfa858a11",
   "metadata": {},
   "outputs": [
    {
     "name": "stdout",
     "output_type": "stream",
     "text": [
      "[[1 0 0 1 0 0]\n",
      " [0 0 2 0 0 1]\n",
      " [0 0 0 2 0 0]]\n",
      "0.7222222222222222\n"
     ]
    }
   ],
   "source": [
    "from numpy import array\n",
    "from numpy import count_nonzero\n",
    "A = array([\n",
    "    [1,0,0,1,0,0],\n",
    "    [0,0,2,0,0,1],\n",
    "    [0,0,0,2,0,0]\n",
    "])\n",
    "print(A)\n",
    "sparsity = 1.0 - count_nonzero(A) / A.size\n",
    "print(sparsity)"
   ]
  }
 ],
 "metadata": {
  "kernelspec": {
   "display_name": "Python 3 (ipykernel)",
   "language": "python",
   "name": "python3"
  },
  "language_info": {
   "codemirror_mode": {
    "name": "ipython",
    "version": 3
   },
   "file_extension": ".py",
   "mimetype": "text/x-python",
   "name": "python",
   "nbconvert_exporter": "python",
   "pygments_lexer": "ipython3",
   "version": "3.12.7"
  }
 },
 "nbformat": 4,
 "nbformat_minor": 5
}
